{
 "cells": [
  {
   "cell_type": "code",
   "execution_count": null,
   "metadata": {},
   "outputs": [],
   "source": [
    "import pandas as pd\n",
    "import requests\n",
    "import re"
   ]
  },
  {
   "cell_type": "code",
   "execution_count": null,
   "metadata": {},
   "outputs": [],
   "source": [
    "API_URL = \"https://api-inference.huggingface.co/models/mistralai/Mistral-7B-Instruct-v0.3\"\n",
    "headers = {\"Authorization\": \"Bearer \"} "
   ]
  },
  {
   "cell_type": "code",
   "execution_count": null,
   "metadata": {},
   "outputs": [],
   "source": [
    "file_path = r\"sample-dataset-1000-reddit-posts.csv\"\n",
    "df = pd.read_csv(file_path)"
   ]
  },
  {
   "cell_type": "code",
   "execution_count": null,
   "metadata": {},
   "outputs": [],
   "source": [
    "df['selftext'].fillna('', inplace=True)\n",
    "\n",
    "cols_to_drop = ['url', 'url_overridden_by_dest', 'is_gallery',\n",
    "       'is_video', 'archived', 'permalink', 'author',\n",
    "       'author_fullname', 'name', 'thumbnail', 'media', 'preview',\n",
    "       'first_image_url', 'gallery_data', 'media_metadata', 'subreddit',\n",
    "       'subreddit_id', 'subreddit_subscribers',\n",
    "       'subreddit_type', 'num_comments', 'total_awards_received',\n",
    "       'upvote_ratio', 'ups', 'score', 'total_score']\n",
    "\n",
    "df.drop(cols_to_drop, axis=1, inplace=True)"
   ]
  },
  {
   "cell_type": "code",
   "execution_count": null,
   "metadata": {},
   "outputs": [],
   "source": [
    "df['text'] = 'Post title: ' + df['title'] + '. Post description: ' + df['selftext']"
   ]
  },
  {
   "cell_type": "code",
   "execution_count": null,
   "metadata": {},
   "outputs": [],
   "source": [
    "def query(payload):\n",
    "\tresponse = requests.post(API_URL, headers=headers, json=payload)\n",
    "\treturn response.json()"
   ]
  },
  {
   "cell_type": "code",
   "execution_count": null,
   "metadata": {},
   "outputs": [],
   "source": [
    "def reddit_classifier(input_text):\n",
    "    \n",
    "    prompt2 = f\"\"\"Classify the input text given at the end, into 1 of the 3 given categories (output the correct number only- 1,2 or 3), based on the text content. \n",
    "                    The categories: \n",
    "                    Category 1. Input Text content mentions figuring out if an image is AI-generated or not \n",
    "                    (Example 1: Input Text: Is this AI? Seen on Facebook., Output: 1. \n",
    "                    Example 2: Input Text: Disney Posted this today, is it AI?, Output: 1)\n",
    "\n",
    "                    Category 2. Text content involves getting help to recreate something.\n",
    "                    (Example 1: what is this style called? What prompt should I use?, Output: 2.\n",
    "                    Example 2: What would be the best model or prompts to use to get results in this style?, Output: 2)\n",
    "\n",
    "                    Category 3. Text content does not fit category 1 or 2.\n",
    "                    (Example 1: My take on the real life Simpsons, Output: 3.\n",
    "                    Example 2: Why can't new buildings look more like this? Comment which apartment you want in your neighborhood. [prompts in the comments]., Output: 3)\n",
    "\n",
    "                    Make sure to return only a single integer containing the output at the end.\n",
    "                    Here is the input text that you must now classify. Input Text: {input_text}.\n",
    "                    \"\"\"\n",
    "    \n",
    "    data = query({\"inputs\": prompt2})\n",
    "\n",
    "    return data[0]['generated_text'][-10:]"
   ]
  },
  {
   "cell_type": "code",
   "execution_count": null,
   "metadata": {},
   "outputs": [],
   "source": [
    "import re   # regex\n",
    "\n",
    "def last_number(x):\n",
    "    numbers = re.findall(r'\\d+', x)\n",
    "    if numbers:\n",
    "        return int(numbers[-1])\n",
    "    else:\n",
    "        return None"
   ]
  },
  {
   "cell_type": "code",
   "execution_count": null,
   "metadata": {},
   "outputs": [],
   "source": [
    "list_of_categories = [] # initializing a list\n",
    "\n",
    "for index, row in df.iterrows():\n",
    "    x = last_number(reddit_classifier(row['text']))    # storing to 'x' the output (category)\n",
    "    list_of_categories.append(x)    # adding each new output to the list \n",
    "    print(x)    # print x each time as well"
   ]
  },
  {
   "cell_type": "code",
   "execution_count": null,
   "metadata": {},
   "outputs": [],
   "source": [
    "while len(list_of_categories) < len(df):\n",
    "    list_of_categories.append(None)\n",
    "\n",
    "df[\"category\"] = list_of_categories"
   ]
  },
  {
   "cell_type": "code",
   "execution_count": null,
   "metadata": {},
   "outputs": [],
   "source": [
    "df.to_csv(r'results.csv')"
   ]
  }
 ],
 "metadata": {
  "kernelspec": {
   "display_name": "Python 3",
   "language": "python",
   "name": "python3"
  },
  "language_info": {
   "name": "python",
   "version": "3.11.0"
  }
 },
 "nbformat": 4,
 "nbformat_minor": 2
}
